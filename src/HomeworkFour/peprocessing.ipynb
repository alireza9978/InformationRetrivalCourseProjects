{
  "cells": [
    {
      "cell_type": "markdown",
      "metadata": {
        "id": "n2vqqFEm_Lfk"
      },
      "source": [
        "### import libraries"
      ]
    },
    {
      "cell_type": "code",
      "execution_count": 1,
      "metadata": {
        "id": "RYaov3FT9CCz"
      },
      "outputs": [],
      "source": [
        "import pandas as pd\n",
        "import numpy as np\n",
        "import re\n",
        "import nltk\n",
        "from nltk.corpus import stopwords\n",
        "from nltk import PorterStemmer\n",
        "from nltk import WordNetLemmatizer\n",
        "import json\n",
        "import string"
      ]
    },
    {
      "cell_type": "markdown",
      "metadata": {
        "id": "Uo9V-gs4_Olh"
      },
      "source": [
        "### load dataset"
      ]
    },
    {
      "cell_type": "code",
      "execution_count": 2,
      "metadata": {
        "colab": {
          "base_uri": "https://localhost:8080/"
        },
        "id": "iVQGXiRm9M1Z",
        "outputId": "c56f2d1f-73a8-42b2-db66-9e875d5ebee1"
      },
      "outputs": [
        {
          "name": "stdout",
          "output_type": "stream",
          "text": [
            "<class 'pandas.core.frame.DataFrame'>\n",
            "Index: 49788 entries, 0 to 2126\n",
            "Data columns (total 13 columns):\n",
            " #   Column                    Non-Null Count  Dtype \n",
            "---  ------                    --------------  ----- \n",
            " 0   course_name               49242 non-null  object\n",
            " 1   course_instructor_site    48599 non-null  object\n",
            " 2   course_site               46177 non-null  object\n",
            " 3   course_instructor         46113 non-null  object\n",
            " 4   course_cost               22373 non-null  object\n",
            " 5   course_credential         35877 non-null  object\n",
            " 6   course_level              21285 non-null  object\n",
            " 7   course_duration           45048 non-null  object\n",
            " 8   course_language           46125 non-null  object\n",
            " 9   course_caption_languages  18959 non-null  object\n",
            " 10  overview                  47648 non-null  object\n",
            " 11  syllabus                  24037 non-null  object\n",
            " 12  subject                   49162 non-null  object\n",
            "dtypes: object(13)\n",
            "memory usage: 5.3+ MB\n"
          ]
        }
      ],
      "source": [
        "df = pd.read_csv('../HomeworkThree/dataset.csv', index_col=0)\n",
        "df.info()"
      ]
    },
    {
      "cell_type": "markdown",
      "metadata": {},
      "source": [
        "#### detect free courses and extract numbers"
      ]
    },
    {
      "cell_type": "code",
      "execution_count": 3,
      "metadata": {
        "colab": {
          "base_uri": "https://localhost:8080/"
        },
        "id": "AsJZOG547bvS",
        "outputId": "28c093f0-407d-490a-ac3e-09a3fbd0a9f7"
      },
      "outputs": [],
      "source": [
        "def process_cost(cost):\n",
        "    cost = str(cost)\n",
        "    cost = cost.replace(',', '')\n",
        "    if cost[0] == '$':\n",
        "        cost = int(cost.split('.')[0][1:])\n",
        "    elif 'Free' in cost or 'free' in cost:\n",
        "        cost = 0\n",
        "    else:\n",
        "        cost = None\n",
        "\n",
        "    return cost"
      ]
    },
    {
      "cell_type": "code",
      "execution_count": 4,
      "metadata": {},
      "outputs": [],
      "source": [
        "df['course_credential'] = df['course_credential'].apply(process_cost)\n",
        "df['course_credential'].fillna((df['course_credential'].mean()), inplace=True)"
      ]
    },
    {
      "cell_type": "markdown",
      "metadata": {},
      "source": [
        "#### turn subtitle string into list of words"
      ]
    },
    {
      "cell_type": "code",
      "execution_count": 5,
      "metadata": {},
      "outputs": [],
      "source": [
        "def str2list(text):\n",
        "    text = str(text)\n",
        "    if text == 'nan' or text == '':\n",
        "        return []\n",
        "    text = text.split(', ')\n",
        "    return text"
      ]
    },
    {
      "cell_type": "code",
      "execution_count": 6,
      "metadata": {},
      "outputs": [],
      "source": [
        "df['course_caption_languages'] = df['course_caption_languages'].apply(str2list)"
      ]
    },
    {
      "cell_type": "code",
      "execution_count": 7,
      "metadata": {},
      "outputs": [
        {
          "name": "stdout",
          "output_type": "stream",
          "text": [
            "<class 'pandas.core.frame.DataFrame'>\n",
            "Index: 49788 entries, 0 to 2126\n",
            "Data columns (total 13 columns):\n",
            " #   Column                    Non-Null Count  Dtype  \n",
            "---  ------                    --------------  -----  \n",
            " 0   course_name               49242 non-null  object \n",
            " 1   course_instructor_site    48599 non-null  object \n",
            " 2   course_site               46177 non-null  object \n",
            " 3   course_instructor         46113 non-null  object \n",
            " 4   course_cost               22373 non-null  object \n",
            " 5   course_credential         49788 non-null  float64\n",
            " 6   course_level              21285 non-null  object \n",
            " 7   course_duration           45048 non-null  object \n",
            " 8   course_language           46125 non-null  object \n",
            " 9   course_caption_languages  49788 non-null  object \n",
            " 10  overview                  47648 non-null  object \n",
            " 11  syllabus                  24037 non-null  object \n",
            " 12  subject                   49162 non-null  object \n",
            "dtypes: float64(1), object(12)\n",
            "memory usage: 5.3+ MB\n"
          ]
        }
      ],
      "source": [
        "df.info()"
      ]
    },
    {
      "cell_type": "code",
      "execution_count": 8,
      "metadata": {},
      "outputs": [
        {
          "data": {
            "text/html": [
              "<div>\n",
              "<style scoped>\n",
              "    .dataframe tbody tr th:only-of-type {\n",
              "        vertical-align: middle;\n",
              "    }\n",
              "\n",
              "    .dataframe tbody tr th {\n",
              "        vertical-align: top;\n",
              "    }\n",
              "\n",
              "    .dataframe thead th {\n",
              "        text-align: right;\n",
              "    }\n",
              "</style>\n",
              "<table border=\"1\" class=\"dataframe\">\n",
              "  <thead>\n",
              "    <tr style=\"text-align: right;\">\n",
              "      <th></th>\n",
              "      <th>course_name</th>\n",
              "      <th>course_instructor_site</th>\n",
              "      <th>course_site</th>\n",
              "      <th>course_instructor</th>\n",
              "      <th>course_cost</th>\n",
              "      <th>course_credential</th>\n",
              "      <th>course_level</th>\n",
              "      <th>course_duration</th>\n",
              "      <th>course_language</th>\n",
              "      <th>course_caption_languages</th>\n",
              "      <th>overview</th>\n",
              "      <th>syllabus</th>\n",
              "      <th>subject</th>\n",
              "    </tr>\n",
              "  </thead>\n",
              "  <tbody>\n",
              "    <tr>\n",
              "      <th>0</th>\n",
              "      <td>Machine Learning</td>\n",
              "      <td>Stanford University</td>\n",
              "      <td>Coursera</td>\n",
              "      <td>Andrew Ng</td>\n",
              "      <td>Free Online Course (Audit)</td>\n",
              "      <td>99.972306</td>\n",
              "      <td>NaN</td>\n",
              "      <td>11 weeks long, 60 hours worth of material</td>\n",
              "      <td>English</td>\n",
              "      <td>[Arabic, French, Portuguese, Chinese, Italian,...</td>\n",
              "      <td>Machine learning is the science of getting com...</td>\n",
              "      <td>Introduction\\nWelcome to Machine Learning! In ...</td>\n",
              "      <td>Computer Science</td>\n",
              "    </tr>\n",
              "    <tr>\n",
              "      <th>1</th>\n",
              "      <td>Information Systems Auditing, Controls and Ass...</td>\n",
              "      <td>The Hong Kong University of Science and Techno...</td>\n",
              "      <td>Coursera</td>\n",
              "      <td>Garvin Percy DIAS</td>\n",
              "      <td>Free Online Course (Audit)</td>\n",
              "      <td>99.972306</td>\n",
              "      <td>Beginner</td>\n",
              "      <td>4 weeks long, 8 hours worth of material</td>\n",
              "      <td>English</td>\n",
              "      <td>[Arabic, French, Portuguese, Italian, German, ...</td>\n",
              "      <td>The course is awarded The Best Free Online Cou...</td>\n",
              "      <td>Introduction to Information Systems (IS) Audit...</td>\n",
              "      <td>Computer Science</td>\n",
              "    </tr>\n",
              "    <tr>\n",
              "      <th>2</th>\n",
              "      <td>Unlocking Information Security I: From Cryptog...</td>\n",
              "      <td>Tel Aviv University</td>\n",
              "      <td>edX</td>\n",
              "      <td>Avishai Wool and Dan Gittik</td>\n",
              "      <td>Free Online Course (Audit)</td>\n",
              "      <td>149.000000</td>\n",
              "      <td>Intermediate</td>\n",
              "      <td>5 weeks long, 4-6 hours a week</td>\n",
              "      <td>English</td>\n",
              "      <td>[Arabic, English, Hebrew]</td>\n",
              "      <td>Information Security is everywhere: as the wor...</td>\n",
              "      <td>NaN</td>\n",
              "      <td>Computer Science</td>\n",
              "    </tr>\n",
              "    <tr>\n",
              "      <th>3</th>\n",
              "      <td>Elements of AI</td>\n",
              "      <td>NaN</td>\n",
              "      <td>NaN</td>\n",
              "      <td>NaN</td>\n",
              "      <td>NaN</td>\n",
              "      <td>99.972306</td>\n",
              "      <td>NaN</td>\n",
              "      <td>NaN</td>\n",
              "      <td>NaN</td>\n",
              "      <td>[]</td>\n",
              "      <td>The goal of this course is to demystify AI\\nTh...</td>\n",
              "      <td>Part 1\\nWhat is AI?\\nPart 2\\nSolving problems ...</td>\n",
              "      <td>Computer Science</td>\n",
              "    </tr>\n",
              "    <tr>\n",
              "      <th>4</th>\n",
              "      <td>Cyber Security</td>\n",
              "      <td>UGC</td>\n",
              "      <td>Swayam</td>\n",
              "      <td>Prof. Padmavathi G</td>\n",
              "      <td>Free Online Course</td>\n",
              "      <td>99.972306</td>\n",
              "      <td>NaN</td>\n",
              "      <td>15 weeks long</td>\n",
              "      <td>English</td>\n",
              "      <td>[]</td>\n",
              "      <td>1. Why this Course on Cyber Security?The cours...</td>\n",
              "      <td>Week - 1\\n1.Introduction to Cyber Space2.Intro...</td>\n",
              "      <td>Computer Science</td>\n",
              "    </tr>\n",
              "    <tr>\n",
              "      <th>5</th>\n",
              "      <td>Introduction to Cyber Security</td>\n",
              "      <td>Uttarakhand Open University, Haldwani</td>\n",
              "      <td>Swayam</td>\n",
              "      <td>Dr. Jeetendra Pande</td>\n",
              "      <td>Free Online Course</td>\n",
              "      <td>99.972306</td>\n",
              "      <td>NaN</td>\n",
              "      <td>12 weeks long</td>\n",
              "      <td>English</td>\n",
              "      <td>[]</td>\n",
              "      <td>Internet has led to widespread and drastic cha...</td>\n",
              "      <td>Week 1\\nIntroduction to Cyber Space\\nHistory o...</td>\n",
              "      <td>Computer Science</td>\n",
              "    </tr>\n",
              "    <tr>\n",
              "      <th>6</th>\n",
              "      <td>Introduction to Computer Science and Programmi...</td>\n",
              "      <td>Massachusetts Institute of Technology</td>\n",
              "      <td>edX</td>\n",
              "      <td>Ana Bell, Eric Grimson and John Guttag</td>\n",
              "      <td>Free Online Course (Audit)</td>\n",
              "      <td>75.000000</td>\n",
              "      <td>Beginner</td>\n",
              "      <td>9 weeks long, 14-16 hours a week</td>\n",
              "      <td>English</td>\n",
              "      <td>[English]</td>\n",
              "      <td>This course is the first of a two-course seque...</td>\n",
              "      <td>NaN</td>\n",
              "      <td>Computer Science</td>\n",
              "    </tr>\n",
              "    <tr>\n",
              "      <th>7</th>\n",
              "      <td>CS50's Introduction to Computer Science</td>\n",
              "      <td>Harvard University</td>\n",
              "      <td>edX</td>\n",
              "      <td>David J. Malan</td>\n",
              "      <td>Free Online Course (Audit)</td>\n",
              "      <td>149.000000</td>\n",
              "      <td>Beginner</td>\n",
              "      <td>12 weeks long, 6-18 hours a week</td>\n",
              "      <td>English</td>\n",
              "      <td>[English]</td>\n",
              "      <td>This is CS50x , Harvard University's introduct...</td>\n",
              "      <td>NaN</td>\n",
              "      <td>Computer Science</td>\n",
              "    </tr>\n",
              "    <tr>\n",
              "      <th>8</th>\n",
              "      <td>Computational Social Science Methods</td>\n",
              "      <td>University of California, Davis</td>\n",
              "      <td>Coursera</td>\n",
              "      <td>Martin Hilbert</td>\n",
              "      <td>Free Online Course (Audit)</td>\n",
              "      <td>99.972306</td>\n",
              "      <td>Beginner</td>\n",
              "      <td>4 weeks long, 11 hours worth of material</td>\n",
              "      <td>English</td>\n",
              "      <td>[Arabic, French, Portuguese, Italian, German, ...</td>\n",
              "      <td>This course gives you an overview of the curre...</td>\n",
              "      <td>Computational Social Science (CSS)\\nIn this mo...</td>\n",
              "      <td>Computer Science</td>\n",
              "    </tr>\n",
              "    <tr>\n",
              "      <th>9</th>\n",
              "      <td>Divide and Conquer, Sorting and Searching, and...</td>\n",
              "      <td>Stanford University</td>\n",
              "      <td>Coursera</td>\n",
              "      <td>Tim Roughgarden</td>\n",
              "      <td>Free Online Course (Audit)</td>\n",
              "      <td>99.972306</td>\n",
              "      <td>Intermediate</td>\n",
              "      <td>4 weeks long, 16 hours worth of material</td>\n",
              "      <td>English</td>\n",
              "      <td>[Arabic, French, Portuguese, Italian, German, ...</td>\n",
              "      <td>The primary topics in this part of the special...</td>\n",
              "      <td>Week 1\\nIntroduction; \"big-oh\" notation and as...</td>\n",
              "      <td>Computer Science</td>\n",
              "    </tr>\n",
              "  </tbody>\n",
              "</table>\n",
              "</div>"
            ],
            "text/plain": [
              "                                         course_name  \\\n",
              "0                                   Machine Learning   \n",
              "1  Information Systems Auditing, Controls and Ass...   \n",
              "2  Unlocking Information Security I: From Cryptog...   \n",
              "3                                     Elements of AI   \n",
              "4                                     Cyber Security   \n",
              "5                     Introduction to Cyber Security   \n",
              "6  Introduction to Computer Science and Programmi...   \n",
              "7            CS50's Introduction to Computer Science   \n",
              "8               Computational Social Science Methods   \n",
              "9  Divide and Conquer, Sorting and Searching, and...   \n",
              "\n",
              "                              course_instructor_site course_site  \\\n",
              "0                                Stanford University    Coursera   \n",
              "1  The Hong Kong University of Science and Techno...    Coursera   \n",
              "2                                Tel Aviv University         edX   \n",
              "3                                                NaN         NaN   \n",
              "4                                                UGC      Swayam   \n",
              "5              Uttarakhand Open University, Haldwani      Swayam   \n",
              "6              Massachusetts Institute of Technology         edX   \n",
              "7                                 Harvard University         edX   \n",
              "8                    University of California, Davis    Coursera   \n",
              "9                                Stanford University    Coursera   \n",
              "\n",
              "                        course_instructor                 course_cost  \\\n",
              "0                               Andrew Ng  Free Online Course (Audit)   \n",
              "1                       Garvin Percy DIAS  Free Online Course (Audit)   \n",
              "2             Avishai Wool and Dan Gittik  Free Online Course (Audit)   \n",
              "3                                     NaN                         NaN   \n",
              "4                      Prof. Padmavathi G          Free Online Course   \n",
              "5                     Dr. Jeetendra Pande          Free Online Course   \n",
              "6  Ana Bell, Eric Grimson and John Guttag  Free Online Course (Audit)   \n",
              "7                          David J. Malan  Free Online Course (Audit)   \n",
              "8                          Martin Hilbert  Free Online Course (Audit)   \n",
              "9                         Tim Roughgarden  Free Online Course (Audit)   \n",
              "\n",
              "   course_credential  course_level                            course_duration  \\\n",
              "0          99.972306           NaN  11 weeks long, 60 hours worth of material   \n",
              "1          99.972306      Beginner    4 weeks long, 8 hours worth of material   \n",
              "2         149.000000  Intermediate             5 weeks long, 4-6 hours a week   \n",
              "3          99.972306           NaN                                        NaN   \n",
              "4          99.972306           NaN                              15 weeks long   \n",
              "5          99.972306           NaN                              12 weeks long   \n",
              "6          75.000000      Beginner           9 weeks long, 14-16 hours a week   \n",
              "7         149.000000      Beginner           12 weeks long, 6-18 hours a week   \n",
              "8          99.972306      Beginner   4 weeks long, 11 hours worth of material   \n",
              "9          99.972306  Intermediate   4 weeks long, 16 hours worth of material   \n",
              "\n",
              "  course_language                           course_caption_languages  \\\n",
              "0         English  [Arabic, French, Portuguese, Chinese, Italian,...   \n",
              "1         English  [Arabic, French, Portuguese, Italian, German, ...   \n",
              "2         English                          [Arabic, English, Hebrew]   \n",
              "3             NaN                                                 []   \n",
              "4         English                                                 []   \n",
              "5         English                                                 []   \n",
              "6         English                                          [English]   \n",
              "7         English                                          [English]   \n",
              "8         English  [Arabic, French, Portuguese, Italian, German, ...   \n",
              "9         English  [Arabic, French, Portuguese, Italian, German, ...   \n",
              "\n",
              "                                            overview  \\\n",
              "0  Machine learning is the science of getting com...   \n",
              "1  The course is awarded The Best Free Online Cou...   \n",
              "2  Information Security is everywhere: as the wor...   \n",
              "3  The goal of this course is to demystify AI\\nTh...   \n",
              "4  1. Why this Course on Cyber Security?The cours...   \n",
              "5  Internet has led to widespread and drastic cha...   \n",
              "6  This course is the first of a two-course seque...   \n",
              "7  This is CS50x , Harvard University's introduct...   \n",
              "8  This course gives you an overview of the curre...   \n",
              "9  The primary topics in this part of the special...   \n",
              "\n",
              "                                            syllabus           subject  \n",
              "0  Introduction\\nWelcome to Machine Learning! In ...  Computer Science  \n",
              "1  Introduction to Information Systems (IS) Audit...  Computer Science  \n",
              "2                                                NaN  Computer Science  \n",
              "3  Part 1\\nWhat is AI?\\nPart 2\\nSolving problems ...  Computer Science  \n",
              "4  Week - 1\\n1.Introduction to Cyber Space2.Intro...  Computer Science  \n",
              "5  Week 1\\nIntroduction to Cyber Space\\nHistory o...  Computer Science  \n",
              "6                                                NaN  Computer Science  \n",
              "7                                                NaN  Computer Science  \n",
              "8  Computational Social Science (CSS)\\nIn this mo...  Computer Science  \n",
              "9  Week 1\\nIntroduction; \"big-oh\" notation and as...  Computer Science  "
            ]
          },
          "execution_count": 8,
          "metadata": {},
          "output_type": "execute_result"
        }
      ],
      "source": [
        "# df.to_csv('../HomeworkThree/dataset_processed.csv')\n",
        "df.head(10)"
      ]
    },
    {
      "cell_type": "markdown",
      "metadata": {
        "id": "g9UpxE9SFJBD"
      },
      "source": [
        "### clean texts"
      ]
    },
    {
      "cell_type": "code",
      "execution_count": null,
      "metadata": {
        "id": "y8tnjWwJ-aYA"
      },
      "outputs": [],
      "source": [
        "def remove_special_characters(text):\n",
        "    pattern = r'[^a-zA-z0-9\\s]'\n",
        "    text = re.sub(pattern,'',text)\n",
        "    return text"
      ]
    },
    {
      "cell_type": "code",
      "execution_count": null,
      "metadata": {
        "id": "tuaq4ZMx-hCO"
      },
      "outputs": [],
      "source": [
        "def tokenize_text(text):\n",
        "  return text.lower().split()"
      ]
    },
    {
      "cell_type": "code",
      "execution_count": null,
      "metadata": {
        "colab": {
          "base_uri": "https://localhost:8080/"
        },
        "id": "taJ_vutw-jKe",
        "outputId": "5ea2517e-081c-425b-d8c6-36acae9cf5e8"
      },
      "outputs": [],
      "source": [
        "nltk.download('stopwords')\n",
        "stopword = stopwords.words('english')\n",
        "\n",
        "def remove_stopwords(tokenized_overview):\n",
        "  cleaned_list = []\n",
        "  for word in tokenized_overview:\n",
        "    if word not in stopword:\n",
        "      cleaned_list.append(word)\n",
        "  return cleaned_list"
      ]
    },
    {
      "cell_type": "code",
      "execution_count": null,
      "metadata": {
        "id": "QiBQYtxp-oND"
      },
      "outputs": [],
      "source": [
        "ps = PorterStemmer()\n",
        "\n",
        "def stemmer(tokenized_overview):\n",
        "  stemmed_list = []\n",
        "  for word in tokenized_overview:\n",
        "    stemmed_list.append(ps.stem(word))\n",
        "  return stemmed_list"
      ]
    },
    {
      "cell_type": "code",
      "execution_count": null,
      "metadata": {
        "colab": {
          "base_uri": "https://localhost:8080/"
        },
        "id": "kylDNIMw-sRw",
        "outputId": "0219dfcb-6a5f-4f99-81be-48471749a1b6"
      },
      "outputs": [],
      "source": [
        "nltk.download('wordnet')\n",
        "wn = WordNetLemmatizer()\n",
        "\n",
        "def lemmatizer(tokenized_overview):\n",
        "  lemmatized_list = []\n",
        "  for word in tokenized_overview:\n",
        "    lemmatized_list.append(wn.lemmatize(word))\n",
        "  return lemmatized_list"
      ]
    },
    {
      "cell_type": "code",
      "execution_count": null,
      "metadata": {
        "id": "Af3VA3dO-uqi"
      },
      "outputs": [],
      "source": [
        "def l2s(tokenize_text):\n",
        "  text = \" \" \n",
        "  return (text.join(tokenize_text))"
      ]
    },
    {
      "cell_type": "code",
      "execution_count": null,
      "metadata": {
        "colab": {
          "base_uri": "https://localhost:8080/",
          "height": 920
        },
        "id": "ipLeEQpK_E5k",
        "outputId": "a5f5404d-ffcd-44a8-90b3-c84f4850ac67"
      },
      "outputs": [],
      "source": [
        "df['x'] = df['x'].apply(remove_special_characters)\n",
        "df['tokenized_x'] = df['x'].apply(tokenize_text)\n",
        "df['tokenized_x'] = df['tokenized_x'].apply(remove_stopwords)\n",
        "df['tokenized_x'] = df['tokenized_x'].apply(stemmer)\n",
        "df['tokenized_x'] = df['tokenized_x'].apply(lemmatizer)\n",
        "df['cleaned_x'] = df['tokenized_x'].apply(l2s)"
      ]
    }
  ],
  "metadata": {
    "colab": {
      "collapsed_sections": [],
      "name": "almas_preprocess.ipynb",
      "provenance": [],
      "toc_visible": true
    },
    "kernelspec": {
      "display_name": "Python 3",
      "name": "python3"
    },
    "language_info": {
      "codemirror_mode": {
        "name": "ipython",
        "version": 3
      },
      "file_extension": ".py",
      "mimetype": "text/x-python",
      "name": "python",
      "nbconvert_exporter": "python",
      "pygments_lexer": "ipython3",
      "version": "3.9.6"
    }
  },
  "nbformat": 4,
  "nbformat_minor": 0
}

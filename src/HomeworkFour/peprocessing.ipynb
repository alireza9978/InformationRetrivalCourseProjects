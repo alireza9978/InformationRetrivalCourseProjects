{
  "cells": [
    {
      "cell_type": "markdown",
      "metadata": {
        "id": "n2vqqFEm_Lfk"
      },
      "source": [
        "### import libraries"
      ]
    },
    {
      "cell_type": "code",
      "execution_count": 2,
      "metadata": {
        "id": "RYaov3FT9CCz"
      },
      "outputs": [],
      "source": [
        "import pandas as pd\n",
        "import numpy as np\n",
        "import re\n",
        "import nltk\n",
        "from nltk.corpus import stopwords\n",
        "from nltk import PorterStemmer\n",
        "from nltk import WordNetLemmatizer\n",
        "import json\n",
        "import string"
      ]
    },
    {
      "cell_type": "markdown",
      "metadata": {
        "id": "Uo9V-gs4_Olh"
      },
      "source": [
        "### load dataset"
      ]
    },
    {
      "cell_type": "code",
      "execution_count": 3,
      "metadata": {
        "colab": {
          "base_uri": "https://localhost:8080/"
        },
        "id": "iVQGXiRm9M1Z",
        "outputId": "c56f2d1f-73a8-42b2-db66-9e875d5ebee1"
      },
      "outputs": [
        {
          "name": "stdout",
          "output_type": "stream",
          "text": [
            "<class 'pandas.core.frame.DataFrame'>\n",
            "RangeIndex: 23462 entries, 0 to 23461\n",
            "Data columns (total 14 columns):\n",
            " #   Column                    Non-Null Count  Dtype  \n",
            "---  ------                    --------------  -----  \n",
            " 0   Unnamed: 0                1100 non-null   float64\n",
            " 1   course_name               1100 non-null   object \n",
            " 2   course_instructor_site    1090 non-null   object \n",
            " 3   course_site               1054 non-null   object \n",
            " 4   course_instructor         1070 non-null   object \n",
            " 5   course_cost               897 non-null    object \n",
            " 6   course_credential         819 non-null    object \n",
            " 7   course_level              725 non-null    object \n",
            " 8   course_duration           1041 non-null   object \n",
            " 9   course_language           1054 non-null   object \n",
            " 10  course_caption_languages  716 non-null    object \n",
            " 11  overview                  1060 non-null   object \n",
            " 12  syllabus                  848 non-null    object \n",
            " 13  subject                   1100 non-null   object \n",
            "dtypes: float64(1), object(13)\n",
            "memory usage: 2.5+ MB\n"
          ]
        }
      ],
      "source": [
        "df = pd.read_csv('../HomeworkThree/dataset.csv')\n",
        "df.info()"
      ]
    },
    {
      "cell_type": "code",
      "execution_count": null,
      "metadata": {
        "colab": {
          "base_uri": "https://localhost:8080/"
        },
        "id": "AsJZOG547bvS",
        "outputId": "28c093f0-407d-490a-ac3e-09a3fbd0a9f7"
      },
      "outputs": [
        {
          "name": "stdout",
          "output_type": "stream",
          "text": [
            "<class 'pandas.core.frame.DataFrame'>\n",
            "Int64Index: 4339 entries, 0 to 6212\n",
            "Data columns (total 5 columns):\n",
            " #   Column        Non-Null Count  Dtype \n",
            "---  ------        --------------  ----- \n",
            " 0   University    4339 non-null   object\n",
            " 1   Department    4339 non-null   object\n",
            " 2   Course title  4339 non-null   object\n",
            " 3   Requirements  4339 non-null   object\n",
            " 4   Course Group  64 non-null     object\n",
            "dtypes: object(5)\n",
            "memory usage: 203.4+ KB\n"
          ]
        }
      ],
      "source": [
        "df = df.loc[~(df['Requirements'].isnull())]\n",
        "df = df.dropna(subset = ['Requirements'])\n",
        "df.info()"
      ]
    },
    {
      "cell_type": "markdown",
      "metadata": {
        "id": "g9UpxE9SFJBD"
      },
      "source": [
        "### clean texts"
      ]
    },
    {
      "cell_type": "code",
      "execution_count": null,
      "metadata": {
        "id": "y8tnjWwJ-aYA"
      },
      "outputs": [],
      "source": [
        "def remove_special_characters(text):\n",
        "    pattern = r'[^a-zA-z0-9\\s]'\n",
        "    text = re.sub(pattern,'',text)\n",
        "    return text"
      ]
    },
    {
      "cell_type": "code",
      "execution_count": null,
      "metadata": {
        "id": "tuaq4ZMx-hCO"
      },
      "outputs": [],
      "source": [
        "def tokenize_text(text):\n",
        "  return text.lower().split()"
      ]
    },
    {
      "cell_type": "code",
      "execution_count": null,
      "metadata": {
        "colab": {
          "base_uri": "https://localhost:8080/"
        },
        "id": "taJ_vutw-jKe",
        "outputId": "5ea2517e-081c-425b-d8c6-36acae9cf5e8"
      },
      "outputs": [
        {
          "name": "stdout",
          "output_type": "stream",
          "text": [
            "[nltk_data] Downloading package stopwords to /root/nltk_data...\n",
            "[nltk_data]   Unzipping corpora/stopwords.zip.\n"
          ]
        }
      ],
      "source": [
        "nltk.download('stopwords')\n",
        "stopword = stopwords.words('english')\n",
        "\n",
        "def remove_stopwords(tokenized_overview):\n",
        "  cleaned_list = []\n",
        "  for word in tokenized_overview:\n",
        "    if word not in stopword:\n",
        "      cleaned_list.append(word)\n",
        "  return cleaned_list"
      ]
    },
    {
      "cell_type": "code",
      "execution_count": null,
      "metadata": {
        "id": "QiBQYtxp-oND"
      },
      "outputs": [],
      "source": [
        "ps = PorterStemmer()\n",
        "\n",
        "def stemmer(tokenized_overview):\n",
        "  stemmed_list = []\n",
        "  for word in tokenized_overview:\n",
        "    stemmed_list.append(ps.stem(word))\n",
        "  return stemmed_list"
      ]
    },
    {
      "cell_type": "code",
      "execution_count": null,
      "metadata": {
        "colab": {
          "base_uri": "https://localhost:8080/"
        },
        "id": "kylDNIMw-sRw",
        "outputId": "0219dfcb-6a5f-4f99-81be-48471749a1b6"
      },
      "outputs": [
        {
          "name": "stdout",
          "output_type": "stream",
          "text": [
            "[nltk_data] Downloading package wordnet to /root/nltk_data...\n",
            "[nltk_data]   Unzipping corpora/wordnet.zip.\n"
          ]
        }
      ],
      "source": [
        "nltk.download('wordnet')\n",
        "wn = WordNetLemmatizer()\n",
        "\n",
        "def lemmatizer(tokenized_overview):\n",
        "  lemmatized_list = []\n",
        "  for word in tokenized_overview:\n",
        "    lemmatized_list.append(wn.lemmatize(word))\n",
        "  return lemmatized_list"
      ]
    },
    {
      "cell_type": "code",
      "execution_count": null,
      "metadata": {
        "id": "Af3VA3dO-uqi"
      },
      "outputs": [],
      "source": [
        "def l2s(tokenize_text):\n",
        "  text = \" \" \n",
        "  return (text.join(tokenize_text))"
      ]
    },
    {
      "cell_type": "code",
      "execution_count": null,
      "metadata": {
        "colab": {
          "base_uri": "https://localhost:8080/",
          "height": 920
        },
        "id": "ipLeEQpK_E5k",
        "outputId": "a5f5404d-ffcd-44a8-90b3-c84f4850ac67"
      },
      "outputs": [
        {
          "data": {
            "text/html": [
              "<div>\n",
              "<style scoped>\n",
              "    .dataframe tbody tr th:only-of-type {\n",
              "        vertical-align: middle;\n",
              "    }\n",
              "\n",
              "    .dataframe tbody tr th {\n",
              "        vertical-align: top;\n",
              "    }\n",
              "\n",
              "    .dataframe thead th {\n",
              "        text-align: right;\n",
              "    }\n",
              "</style>\n",
              "<table border=\"1\" class=\"dataframe\">\n",
              "  <thead>\n",
              "    <tr style=\"text-align: right;\">\n",
              "      <th></th>\n",
              "      <th>University</th>\n",
              "      <th>Department</th>\n",
              "      <th>Course title</th>\n",
              "      <th>Requirements</th>\n",
              "      <th>Course Group</th>\n",
              "      <th>tokenized_Requirements</th>\n",
              "      <th>cleaned_Requirements</th>\n",
              "    </tr>\n",
              "  </thead>\n",
              "  <tbody>\n",
              "    <tr>\n",
              "      <th>0</th>\n",
              "      <td>The Australian National University</td>\n",
              "      <td>ANU College of Engineering and Computer Science</td>\n",
              "      <td>Applied Cybernetics Professional Experience</td>\n",
              "      <td>To enrol in this course you must be enrolled i...</td>\n",
              "      <td>CECS Experimental, Interdisciplinary</td>\n",
              "      <td>[enrol, cours, must, enrol, master, appli, cyb...</td>\n",
              "      <td>enrol cours must enrol master appli cybernet</td>\n",
              "    </tr>\n",
              "    <tr>\n",
              "      <th>2</th>\n",
              "      <td>University of California Berkeley</td>\n",
              "      <td>Computer Science (COMPSCI)</td>\n",
              "      <td>Foundations of Data Science</td>\n",
              "      <td>This course may be taken on its own but studen...</td>\n",
              "      <td>NaN</td>\n",
              "      <td>[cours, may, taken, student, encourag, take, c...</td>\n",
              "      <td>cours may taken student encourag take concurr ...</td>\n",
              "    </tr>\n",
              "    <tr>\n",
              "      <th>3</th>\n",
              "      <td>University of California Berkeley</td>\n",
              "      <td>Computer Science (COMPSCI)</td>\n",
              "      <td>Matlab for Programmers</td>\n",
              "      <td>Programming experience equivalent to that gain...</td>\n",
              "      <td>NaN</td>\n",
              "      <td>[program, experi, equival, gain, compsci, 10, ...</td>\n",
              "      <td>program experi equival gain compsci 10 familia...</td>\n",
              "    </tr>\n",
              "    <tr>\n",
              "      <th>4</th>\n",
              "      <td>University of California Berkeley</td>\n",
              "      <td>Computer Science (COMPSCI)</td>\n",
              "      <td>C for Programmers</td>\n",
              "      <td>Programming experience with pointers or addres...</td>\n",
              "      <td>NaN</td>\n",
              "      <td>[program, experi, pointer, address, assembl, l...</td>\n",
              "      <td>program experi pointer address assembl languag...</td>\n",
              "    </tr>\n",
              "    <tr>\n",
              "      <th>5</th>\n",
              "      <td>University of California Berkeley</td>\n",
              "      <td>Computer Science (COMPSCI)</td>\n",
              "      <td>Scheme and Functional Programming for Programmers</td>\n",
              "      <td>Programming experience similar to that gained ...</td>\n",
              "      <td>NaN</td>\n",
              "      <td>[program, experi, similar, gain, compsci, 10, ...</td>\n",
              "      <td>program experi similar gain compsci 10 engin 7</td>\n",
              "    </tr>\n",
              "    <tr>\n",
              "      <th>6</th>\n",
              "      <td>University of California Berkeley</td>\n",
              "      <td>Computer Science (COMPSCI)</td>\n",
              "      <td>Productive Use of the UNIX Environment</td>\n",
              "      <td>Programming experience similar to that gained ...</td>\n",
              "      <td>NaN</td>\n",
              "      <td>[program, experi, similar, gain, compsci, 61a,...</td>\n",
              "      <td>program experi similar gain compsci 61a engin ...</td>\n",
              "    </tr>\n",
              "    <tr>\n",
              "      <th>7</th>\n",
              "      <td>University of California Berkeley</td>\n",
              "      <td>Computer Science (COMPSCI)</td>\n",
              "      <td>C++ for Programmers</td>\n",
              "      <td>Programming experience equivalent to that gain...</td>\n",
              "      <td>NaN</td>\n",
              "      <td>[program, experi, equival, gain, compsci, 61a,...</td>\n",
              "      <td>program experi equival gain compsci 61a engin 7</td>\n",
              "    </tr>\n",
              "    <tr>\n",
              "      <th>8</th>\n",
              "      <td>University of California Berkeley</td>\n",
              "      <td>Computer Science (COMPSCI)</td>\n",
              "      <td>JAVA for Programmers</td>\n",
              "      <td>COMPSCI 9C COMPSCI 9F or COMPSCI 61A plus expe...</td>\n",
              "      <td>NaN</td>\n",
              "      <td>[compsci, 9c, compsci, 9f, compsci, 61a, plu, ...</td>\n",
              "      <td>compsci 9c compsci 9f compsci 61a plu experi o...</td>\n",
              "    </tr>\n",
              "    <tr>\n",
              "      <th>9</th>\n",
              "      <td>University of California Berkeley</td>\n",
              "      <td>Computer Science (COMPSCI)</td>\n",
              "      <td>Python for Programmers</td>\n",
              "      <td>Programming experience equivalent to that gain...</td>\n",
              "      <td>NaN</td>\n",
              "      <td>[program, experi, equival, gain, compsci, 10]</td>\n",
              "      <td>program experi equival gain compsci 10</td>\n",
              "    </tr>\n",
              "    <tr>\n",
              "      <th>12</th>\n",
              "      <td>University of California Berkeley</td>\n",
              "      <td>Computer Science (COMPSCI)</td>\n",
              "      <td>CS Scholars Seminar: The Educational Climate i...</td>\n",
              "      <td>Prerequisite satisfied Concurrently Participat...</td>\n",
              "      <td>NaN</td>\n",
              "      <td>[prerequisit, satisfi, concurr, particip, c, s...</td>\n",
              "      <td>prerequisit satisfi concurr particip c scholar...</td>\n",
              "    </tr>\n",
              "  </tbody>\n",
              "</table>\n",
              "</div>"
            ],
            "text/plain": [
              "                            University  ...                               cleaned_Requirements\n",
              "0   The Australian National University  ...       enrol cours must enrol master appli cybernet\n",
              "2    University of California Berkeley  ...  cours may taken student encourag take concurr ...\n",
              "3    University of California Berkeley  ...  program experi equival gain compsci 10 familia...\n",
              "4    University of California Berkeley  ...  program experi pointer address assembl languag...\n",
              "5    University of California Berkeley  ...     program experi similar gain compsci 10 engin 7\n",
              "6    University of California Berkeley  ...  program experi similar gain compsci 61a engin ...\n",
              "7    University of California Berkeley  ...    program experi equival gain compsci 61a engin 7\n",
              "8    University of California Berkeley  ...  compsci 9c compsci 9f compsci 61a plu experi o...\n",
              "9    University of California Berkeley  ...             program experi equival gain compsci 10\n",
              "12   University of California Berkeley  ...  prerequisit satisfi concurr particip c scholar...\n",
              "\n",
              "[10 rows x 7 columns]"
            ]
          },
          "execution_count": 14,
          "metadata": {},
          "output_type": "execute_result"
        }
      ],
      "source": [
        "df['Requirements'] = df['Requirements'].apply(remove_special_characters)\n",
        "df['tokenized_Requirements'] = df['Requirements'].apply(tokenize_text)\n",
        "df['tokenized_Requirements'] = df['tokenized_Requirements'].apply(remove_stopwords)\n",
        "df['tokenized_Requirements'] = df['tokenized_Requirements'].apply(stemmer)\n",
        "df['tokenized_Requirements'] = df['tokenized_Requirements'].apply(lemmatizer)\n",
        "df['cleaned_Requirements'] = df['tokenized_Requirements'].apply(l2s)\n",
        "df.head(10)"
      ]
    }
  ],
  "metadata": {
    "colab": {
      "collapsed_sections": [],
      "name": "almas_preprocess.ipynb",
      "provenance": [],
      "toc_visible": true
    },
    "kernelspec": {
      "display_name": "Python 3",
      "name": "python3"
    },
    "language_info": {
      "codemirror_mode": {
        "name": "ipython",
        "version": 3
      },
      "file_extension": ".py",
      "mimetype": "text/x-python",
      "name": "python",
      "nbconvert_exporter": "python",
      "pygments_lexer": "ipython3",
      "version": "3.9.6"
    }
  },
  "nbformat": 4,
  "nbformat_minor": 0
}
